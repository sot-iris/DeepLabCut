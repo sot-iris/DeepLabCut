{
  "nbformat": 4,
  "nbformat_minor": 0,
  "metadata": {
    "colab": {
      "name": "GenericDLCCollabFile.ipynb",
      "version": "0.3.2",
      "provenance": [],
      "collapsed_sections": [],
      "include_colab_link": true
    },
    "language_info": {
      "codemirror_mode": {
        "name": "ipython",
        "version": 3
      },
      "file_extension": ".py",
      "mimetype": "text/x-python",
      "name": "python",
      "nbconvert_exporter": "python",
      "pygments_lexer": "ipython3",
      "version": "3.6.8"
    },
    "kernelspec": {
      "name": "python3",
      "display_name": "Python 3"
    },
    "accelerator": "GPU"
  },
  "cells": [
    {
      "cell_type": "markdown",
      "metadata": {
        "id": "view-in-github",
        "colab_type": "text"
      },
      "source": [
        "<a href=\"https://colab.research.google.com/github/sot-iris/DeepLabCut/blob/master/GenericDLCCollabFile.ipynb\" target=\"_parent\"><img src=\"https://colab.research.google.com/assets/colab-badge.svg\" alt=\"Open In Colab\"/></a>"
      ]
    },
    {
      "cell_type": "code",
      "metadata": {
        "id": "DvrAdcqhIqYb",
        "colab_type": "code",
        "colab": {}
      },
      "source": [
        "!pip install deeplabcut\n",
        "from google.colab import drive\n",
        "import os\n",
        "\n",
        "os.environ[\"DLClight\"]=\"True\"\n",
        "os.environ[\"Colab\"]=\"True\"\n",
        "import deeplabcut\n",
        "drive.mount(r'/content/drive')"
      ],
      "execution_count": 0,
      "outputs": []
    },
    {
      "cell_type": "code",
      "metadata": {
        "id": "nvq2XNvpcOzk",
        "colab_type": "code",
        "colab": {}
      },
      "source": [
        "config_path = '/content/drive/My Drive/Moshers_2018-Sotiris-2019-06-15/config.yaml'"
      ],
      "execution_count": 0,
      "outputs": []
    },
    {
      "cell_type": "code",
      "metadata": {
        "id": "DTzGu4xD1C9q",
        "colab_type": "code",
        "outputId": "3a6a0d0d-0aa6-4964-8ebd-e0c4e79239a2",
        "colab": {
          "base_uri": "https://localhost:8080/",
          "height": 756
        }
      },
      "source": [
        "import yaml\n",
        "\n",
        "with open(config_path, 'r') as f:\n",
        "    try:\n",
        "        editedYAML = yaml.load(f, Loader=yaml.FullLoader)\n",
        "    except yaml.YAMLError as exc:\n",
        "        print(exc)\n",
        "editedYAML['pcutoff'] = 0.8\n",
        "editedYAML['dotsize'] = 6\n",
        "editedYAML['project_path'] = '/content/drive/My Drive/Moshers_2018-Sotiris-2019-06-15/'\n",
        "with open(config_path, \"w\") as f:\n",
        "    yaml.dump(editedYAML, f)\n",
        "\n",
        "editedYAML"
      ],
      "execution_count": 0,
      "outputs": [
        {
          "output_type": "execute_result",
          "data": {
            "text/plain": [
              "{'Task': 'Moshers_2018',\n",
              " 'TrainingFraction': [0.95],\n",
              " 'alphavalue': 0.7,\n",
              " 'batch_size': 4,\n",
              " 'bodyparts': ['Snout',\n",
              "  'LeftEar',\n",
              "  'RightEar',\n",
              "  'Centroid',\n",
              "  'TailBase',\n",
              "  'HopperTopLeft',\n",
              "  'HopperTopRight',\n",
              "  'HopperBottomLeft',\n",
              "  'HopperBottomRight',\n",
              "  'WaterSnout',\n",
              "  'UpperLeft',\n",
              "  'LowerLeft',\n",
              "  'UpperRight',\n",
              "  'LowerRight'],\n",
              " 'colormap': 'jet',\n",
              " 'corner2move2': [50, 50],\n",
              " 'cropping': False,\n",
              " 'date': 'Jun15',\n",
              " 'dotsize': 6,\n",
              " 'iteration': 0,\n",
              " 'move2corner': True,\n",
              " 'numframes2pick': 20,\n",
              " 'pcutoff': 0.8,\n",
              " 'project_path': '/content/drive/My Drive/Moshers_2018-Sotiris-2019-06-15/',\n",
              " 'resnet': 50,\n",
              " 'scorer': 'Sotiris',\n",
              " 'snapshotindex': -1,\n",
              " 'start': 0,\n",
              " 'stop': 1,\n",
              " 'video_sets': {'/Users/admin/Desktop/731d3a8912844966a87ff368a3c6f79c-02235e04177c-20fps-60s-800x600-11062019-212425-521818.mp4': {'crop': '0, 800, 0, 600'},\n",
              "  '/Users/admin/Desktop/731d3a8912844966a87ff368a3c6f79c-02235e04177c-20fps-60s-800x600-11062019-212527-485757.mp4': {'crop': '0, 800, 0, 600'},\n",
              "  '/Users/admin/Moshers_2018-Sotiris-2019-06-15/videos/731d3a8912844966a87ff368a3c6f79c-02235e04177c-30fps-60s-800x600-11062019-214758-741652.mp4': {'crop': '0, 800, 0, 600'},\n",
              "  '/Users/admin/Moshers_2018-Sotiris-2019-06-15/videos/731d3a8912844966a87ff368a3c6f79c-02235e04177c-30fps-60s-800x600-11062019-214859-011084.mp4': {'crop': '0, 800, 0, 600'},\n",
              "  '/Users/admin/Moshers_2018-Sotiris-2019-06-15/videos/movie_one.mp4': {'crop': '0, 800, 0, 600'}},\n",
              " 'x1': 0,\n",
              " 'x2': 640,\n",
              " 'y1': 277,\n",
              " 'y2': 624}"
            ]
          },
          "metadata": {
            "tags": []
          },
          "execution_count": 25
        }
      ]
    },
    {
      "cell_type": "code",
      "metadata": {
        "id": "HPOKtpkTyyt4",
        "colab_type": "code",
        "colab": {}
      },
      "source": [
        "deeplabcut.check_labels(config_path)"
      ],
      "execution_count": 0,
      "outputs": []
    },
    {
      "cell_type": "code",
      "metadata": {
        "id": "RvhtPQIgIqY1",
        "colab_type": "code",
        "colab": {}
      },
      "source": [
        "deeplabcut.create_training_dataset(config_path, num_shuffles=1)"
      ],
      "execution_count": 0,
      "outputs": []
    },
    {
      "cell_type": "code",
      "metadata": {
        "id": "7olo-TzYIqY5",
        "colab_type": "code",
        "colab": {}
      },
      "source": [
        "deeplabcut.train_network(config_path,shuffle=1, displayiters=10,saveiters=100)"
      ],
      "execution_count": 0,
      "outputs": []
    },
    {
      "cell_type": "code",
      "metadata": {
        "id": "f8Cr9poIIqZA",
        "colab_type": "code",
        "colab": {}
      },
      "source": [
        "deeplabcut.evaluate_network(config_path, Shuffles=[1])"
      ],
      "execution_count": 0,
      "outputs": []
    }
  ]
}